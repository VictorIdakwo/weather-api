{
 "cells": [
  {
   "cell_type": "code",
   "execution_count": 0,
   "metadata": {
    "application/vnd.databricks.v1+cell": {
     "cellMetadata": {
      "byteLimit": 2048000,
      "rowLimit": 10000
     },
     "inputWidgets": {},
     "nuid": "3fa9f0e1-717a-4644-9a5a-830956352199",
     "showTitle": false,
     "tableResultSettingsMap": {},
     "title": ""
    }
   },
   "outputs": [],
   "source": [
    "import requests\n",
    "import json\n",
    "import pandas as pd\n",
    "from datetime import datetime\n",
    "from pyspark.sql import SparkSession\n",
    "\n",
    "# OpenWeather API Key\n",
    "API_KEY = \"f42013d0765087d965f0c96a5264f34b\"\n",
    "\n",
    "# List of Nigerian states with their coordinates\n",
    "states_coords = {\n",
    "    \"Abia\": {\"lat\": 5.5200, \"lon\": 7.4900},\n",
    "    \"Adamawa\": {\"lat\": 9.3000, \"lon\": 12.4600},\n",
    "    \"Akwa Ibom\": {\"lat\": 5.0000, \"lon\": 7.9000},\n",
    "    \"Anambra\": {\"lat\": 6.2100, \"lon\": 7.0700},\n",
    "    \"Bauchi\": {\"lat\": 10.3100, \"lon\": 9.8300},\n",
    "    \"Bayelsa\": {\"lat\": 4.9220, \"lon\": 6.2580},\n",
    "    \"Benue\": {\"lat\": 7.7361, \"lon\": 8.5395},\n",
    "    \"Borno\": {\"lat\": 11.8460, \"lon\": 13.1570},\n",
    "    \"Cross River\": {\"lat\": 4.9580, \"lon\": 8.3260},\n",
    "    \"Delta\": {\"lat\": 6.2056, \"lon\": 6.7259},\n",
    "    \"Ebonyi\": {\"lat\": 6.3220, \"lon\": 8.1120},\n",
    "    \"Edo\": {\"lat\": 6.3320, \"lon\": 5.6030},\n",
    "    \"Ekiti\": {\"lat\": 7.6170, \"lon\": 5.2170},\n",
    "    \"Enugu\": {\"lat\": 6.4433, \"lon\": 7.5130},\n",
    "    \"Gombe\": {\"lat\": 10.2892, \"lon\": 11.1593},\n",
    "    \"Imo\": {\"lat\": 5.4833, \"lon\": 7.0333},\n",
    "    \"Jigawa\": {\"lat\": 12.2620, \"lon\": 9.3280},\n",
    "    \"Kaduna\": {\"lat\": 10.5200, \"lon\": 7.4400},\n",
    "    \"Kano\": {\"lat\": 12.0022, \"lon\": 8.5919},\n",
    "    \"Katsina\": {\"lat\": 12.9933, \"lon\": 7.6111},\n",
    "    \"Kebbi\": {\"lat\": 12.4536, \"lon\": 4.2023},\n",
    "    \"Kogi\": {\"lat\": 7.8036, \"lon\": 6.7362},\n",
    "    \"Kwara\": {\"lat\": 8.4900, \"lon\": 4.5500},\n",
    "    \"Lagos\": {\"lat\": 6.5244, \"lon\": 3.3792},\n",
    "    \"Nasarawa\": {\"lat\": 8.2043, \"lon\": 8.5069},\n",
    "    \"Niger\": {\"lat\": 9.6167, \"lon\": 6.5500},\n",
    "    \"Ogun\": {\"lat\": 7.1403, \"lon\": 3.3500},\n",
    "    \"Ondo\": {\"lat\": 7.2500, \"lon\": 5.1900},\n",
    "    \"Osun\": {\"lat\": 7.7750, \"lon\": 4.5600},\n",
    "    \"Oyo\": {\"lat\": 7.3775, \"lon\": 3.8950},\n",
    "    \"Plateau\": {\"lat\": 9.9200, \"lon\": 9.3200},\n",
    "    \"Rivers\": {\"lat\": 4.8152, \"lon\": 7.0498},\n",
    "    \"Sokoto\": {\"lat\": 13.0700, \"lon\": 5.2400},\n",
    "    \"Taraba\": {\"lat\": 9.3200, \"lon\": 11.3800},\n",
    "    \"Yobe\": {\"lat\": 11.9644, \"lon\": 11.8444},\n",
    "    \"Zamfara\": {\"lat\": 12.1642, \"lon\": 6.6613},\n",
    "    \"FCT (Abuja)\": {\"lat\": 9.0579, \"lon\": 7.4951}\n",
    "}\n",
    "\n",
    "# Function to fetch weather data\n",
    "def fetch_weather_data(state, lat, lon):\n",
    "    url = f\"http://api.openweathermap.org/data/2.5/weather?lat={lat}&lon={lon}&appid={API_KEY}&units=metric\"\n",
    "    response = requests.get(url)\n",
    "    data = response.json()\n",
    "    \n",
    "    if response.status_code == 200:\n",
    "        return {\n",
    "            \"state\": state,\n",
    "            \"lat\": lat,\n",
    "            \"lon\": lon,\n",
    "            \"weather\": data[\"weather\"][0][\"description\"],\n",
    "            \"temperature\": data[\"main\"][\"temp\"],\n",
    "            \"humidity\": data[\"main\"][\"humidity\"],\n",
    "            \"timestamp\": datetime.now().strftime(\"%Y-%m-%d %H:%M:%S\")\n",
    "        }\n",
    "    else:\n",
    "        return {\n",
    "            \"state\": state,\n",
    "            \"lat\": lat,\n",
    "            \"lon\": lon,\n",
    "            \"weather\": \"N/A\",\n",
    "            \"temperature\": \"N/A\",\n",
    "            \"humidity\": \"N/A\",\n",
    "            \"timestamp\": datetime.now().strftime(\"%Y-%m-%d %H:%M:%S\")\n",
    "        }\n",
    "\n",
    "# Fetch data for all states\n",
    "weather_data_list = [fetch_weather_data(state, coords[\"lat\"], coords[\"lon\"]) for state, coords in states_coords.items()]\n",
    "\n",
    "# Convert to Pandas DataFrame\n",
    "weather_df = pd.DataFrame(weather_data_list)\n",
    "print(weather_df.head())  # Preview the data\n"
   ]
  },
  {
   "cell_type": "code",
   "execution_count": 0,
   "metadata": {
    "application/vnd.databricks.v1+cell": {
     "cellMetadata": {
      "byteLimit": 2048000,
      "rowLimit": 10000
     },
     "inputWidgets": {},
     "nuid": "4d7e02b3-9726-4a1b-a7b8-0f0d81d9565a",
     "showTitle": false,
     "tableResultSettingsMap": {},
     "title": ""
    }
   },
   "outputs": [],
   "source": [
    "# Convert Pandas DataFrame to Spark DataFrame\n",
    "spark_weather_df = spark.createDataFrame(weather_df)\n",
    "\n",
    "# Save to Delta Table\n",
    "spark_weather_df.write \\\n",
    "    .format(\"delta\") \\\n",
    "    .mode(\"append\") \\\n",
    "    .saveAsTable(\"nigeria_weather_data\")\n"
   ]
  }
 ],
 "metadata": {
  "application/vnd.databricks.v1+notebook": {
   "computePreferences": null,
   "dashboards": [],
   "environmentMetadata": {
    "base_environment": "",
    "environment_version": "2"
   },
   "language": "python",
   "notebookMetadata": {
    "pythonIndentUnit": 4
   },
   "notebookName": "Open Weather api",
   "widgets": {}
  },
  "language_info": {
   "name": "python"
  }
 },
 "nbformat": 4,
 "nbformat_minor": 0
}
